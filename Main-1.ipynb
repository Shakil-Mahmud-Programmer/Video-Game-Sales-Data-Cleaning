{
 "cells": [
  {
   "cell_type": "code",
   "execution_count": 117,
   "metadata": {},
   "outputs": [],
   "source": [
    "import pandas as pd\n",
    "df=pd.read_excel('Data/Video Game Sales.xlsx')"
   ]
  },
  {
   "cell_type": "markdown",
   "metadata": {},
   "source": [
    "Get Dataset Size "
   ]
  },
  {
   "cell_type": "code",
   "execution_count": 118,
   "metadata": {},
   "outputs": [
    {
     "data": {
      "text/plain": [
       "65520"
      ]
     },
     "execution_count": 118,
     "metadata": {},
     "output_type": "execute_result"
    }
   ],
   "source": [
    "size=0\n",
    "for i in df['Rank']:\n",
    "    size+=1\n",
    "size"
   ]
  },
  {
   "cell_type": "markdown",
   "metadata": {},
   "source": [
    "Lists to store columns values"
   ]
  },
  {
   "cell_type": "code",
   "execution_count": 119,
   "metadata": {},
   "outputs": [],
   "source": [
    "Rank=list()\n",
    "Name=list()\n",
    "Platform=list()\n",
    "Year=list()\n",
    "Genre=list()\n",
    "Publisher=list()\n",
    "NA_Sales=list()\n",
    "EU_Sales=list()\n",
    "JP_Sales=list()\n",
    "Others_Sales=list()"
   ]
  },
  {
   "cell_type": "markdown",
   "metadata": {},
   "source": [
    "Extracting column values in lists"
   ]
  },
  {
   "cell_type": "code",
   "execution_count": 120,
   "metadata": {},
   "outputs": [],
   "source": [
    "i=0\n",
    "while i < size:\n",
    "    Rank.append(df['Rank'].loc[i])\n",
    "    i=i+1\n",
    "    Name.append(df['Rank'].loc[i])\n",
    "    i=i+1\n",
    "    Platform.append(df['Rank'].loc[i])\n",
    "    i=i+1\n",
    "    Year.append(df['Rank'].loc[i])\n",
    "    i=i+1\n",
    "    Genre.append(df['Rank'].loc[i])\n",
    "    i=i+1\n",
    "    Publisher.append(df['Rank'].loc[i])\n",
    "    i=i+1\n",
    "    NA_Sales.append(df['Rank'].loc[i])\n",
    "    i=i+1\n",
    "    EU_Sales.append(df['Rank'].loc[i])\n",
    "    i=i+1\n",
    "    JP_Sales.append(df['Rank'].loc[i])\n",
    "    i=i+1\n",
    "    Others_Sales.append(df['Rank'].loc[i])\n",
    "    i=i+1"
   ]
  },
  {
   "cell_type": "markdown",
   "metadata": {},
   "source": [
    "Making DataFrame"
   ]
  },
  {
   "cell_type": "code",
   "execution_count": 121,
   "metadata": {},
   "outputs": [],
   "source": [
    "cleaned_df = pd.DataFrame({'Rank':Rank, 'Name':Name, 'Platform':Platform, 'Year':Year, 'Genre':Genre, 'Publisher':Publisher,\n",
    " 'NA_Sales': NA_Sales, 'EU_Sales':EU_Sales, 'JP_Sales':JP_Sales,'Other Sales': Others_Sales})"
   ]
  },
  {
   "cell_type": "markdown",
   "metadata": {},
   "source": [
    "Clean Data"
   ]
  },
  {
   "cell_type": "code",
   "execution_count": 122,
   "metadata": {},
   "outputs": [],
   "source": [
    " cleaned_df.dropna(inplace=True)"
   ]
  },
  {
   "cell_type": "markdown",
   "metadata": {},
   "source": [
    "Data Checking"
   ]
  },
  {
   "cell_type": "markdown",
   "metadata": {},
   "source": [
    "Rank"
   ]
  },
  {
   "cell_type": "code",
   "execution_count": 123,
   "metadata": {},
   "outputs": [
    {
     "data": {
      "text/plain": [
       "[]"
      ]
     },
     "execution_count": 123,
     "metadata": {},
     "output_type": "execute_result"
    }
   ],
   "source": [
    "flag=0\n",
    "get_rank=list()\n",
    "final_rank=list()\n",
    "for i in cleaned_df['Rank']:\n",
    "    try:\n",
    "        int(i)\n",
    "        flag+=1\n",
    "    except ValueError:\n",
    "        get_rank.append(i)\n",
    "        get_rank.append(flag)\n",
    "        ra=get_rank.copy()\n",
    "        final_rank.append(ra)\n",
    "        get_rank.clear()\n",
    "        flag+=1\n",
    "\n",
    "final_rank"
   ]
  },
  {
   "cell_type": "markdown",
   "metadata": {},
   "source": [
    "Name"
   ]
  },
  {
   "cell_type": "code",
   "execution_count": 124,
   "metadata": {},
   "outputs": [
    {
     "data": {
      "text/plain": [
       "[[1942, 2036]]"
      ]
     },
     "execution_count": 124,
     "metadata": {},
     "output_type": "execute_result"
    }
   ],
   "source": [
    "flag=0\n",
    "get_name=list()\n",
    "final_name=list()\n",
    "for i in cleaned_df['Name']:\n",
    "    try:\n",
    "        float(i)\n",
    "        get_name.append(i)\n",
    "        get_name.append(flag)\n",
    "        n=get_name.copy()\n",
    "        final_name.append(n)\n",
    "        get_name.clear()\n",
    "        flag+=1\n",
    "    except ValueError:\n",
    "        flag+=1\n",
    "\n",
    "final_name"
   ]
  },
  {
   "cell_type": "markdown",
   "metadata": {},
   "source": [
    "Platform"
   ]
  },
  {
   "cell_type": "code",
   "execution_count": 125,
   "metadata": {},
   "outputs": [
    {
     "data": {
      "text/plain": [
       "[[2600, 89],\n",
       " [2600, 238],\n",
       " [2600, 257],\n",
       " [2600, 540],\n",
       " [2600, 725],\n",
       " [2600, 757],\n",
       " [2600, 854],\n",
       " [2600, 1096],\n",
       " [2600, 1105],\n",
       " [2600, 1141],\n",
       " [2600, 1151],\n",
       " [2600, 1293],\n",
       " [2600, 1416],\n",
       " [2600, 1493],\n",
       " [2600, 1540],\n",
       " [2600, 1685],\n",
       " [2600, 1746],\n",
       " [2600, 1797],\n",
       " [2600, 1827],\n",
       " [2600, 1830],\n",
       " [2600, 1884],\n",
       " [2600, 1944],\n",
       " [2600, 1948],\n",
       " [2600, 2116],\n",
       " [2600, 2202],\n",
       " [2600, 2374],\n",
       " [2600, 2480],\n",
       " [2600, 2558],\n",
       " [2600, 2591],\n",
       " [2600, 2614],\n",
       " [2600, 2622],\n",
       " [2600, 2626],\n",
       " [2600, 2631],\n",
       " [2600, 2634],\n",
       " [2600, 2766],\n",
       " [2600, 2802],\n",
       " [2600, 2899],\n",
       " [2600, 3002],\n",
       " [2600, 3036],\n",
       " [2600, 3075],\n",
       " [2600, 3168],\n",
       " [2600, 3199],\n",
       " [2600, 3217],\n",
       " [2600, 3353],\n",
       " [2600, 3358],\n",
       " [2600, 3396],\n",
       " [2600, 3590],\n",
       " [2600, 3662],\n",
       " [2600, 3694],\n",
       " [2600, 3883],\n",
       " [2600, 3895],\n",
       " [2600, 3908],\n",
       " [2600, 3955],\n",
       " [2600, 3957],\n",
       " [2600, 3958],\n",
       " [2600, 3967],\n",
       " [2600, 4038],\n",
       " [2600, 4081],\n",
       " [2600, 4088],\n",
       " [2600, 4134],\n",
       " [2600, 4205],\n",
       " [2600, 4274],\n",
       " [2600, 4283],\n",
       " [2600, 4328],\n",
       " [2600, 4337],\n",
       " [2600, 4450],\n",
       " [2600, 4709],\n",
       " [2600, 4713],\n",
       " [2600, 4728],\n",
       " [2600, 4819],\n",
       " [2600, 4833],\n",
       " [2600, 4891],\n",
       " [2600, 4987],\n",
       " [2600, 5004],\n",
       " [2600, 5049],\n",
       " [2600, 5163],\n",
       " [2600, 5282],\n",
       " [2600, 5297],\n",
       " [2600, 5298],\n",
       " [2600, 5305],\n",
       " [2600, 5311],\n",
       " [2600, 5316],\n",
       " [2600, 5474],\n",
       " [2600, 5479],\n",
       " [2600, 5569],\n",
       " [2600, 5682],\n",
       " [2600, 5708],\n",
       " [2600, 5859],\n",
       " [2600, 5910],\n",
       " [2600, 5924],\n",
       " [2600, 6046],\n",
       " [2600, 6163],\n",
       " [2600, 6192],\n",
       " [2600, 6211],\n",
       " [2600, 6427]]"
      ]
     },
     "execution_count": 125,
     "metadata": {},
     "output_type": "execute_result"
    }
   ],
   "source": [
    "flag=0\n",
    "get_plat=list()\n",
    "final_plat=list()\n",
    "for i in cleaned_df['Platform']:\n",
    "    try:\n",
    "        float(i)\n",
    "        get_plat.append(i)\n",
    "        get_plat.append(flag)\n",
    "        p=get_plat.copy()\n",
    "        final_plat.append(p)\n",
    "        get_plat.clear()\n",
    "        flag+=1\n",
    "    except ValueError:\n",
    "        flag+=1\n",
    "\n",
    "final_plat"
   ]
  },
  {
   "cell_type": "markdown",
   "metadata": {},
   "source": [
    "Year"
   ]
  },
  {
   "cell_type": "code",
   "execution_count": 126,
   "metadata": {},
   "outputs": [
    {
     "data": {
      "text/plain": [
       "[]"
      ]
     },
     "execution_count": 126,
     "metadata": {},
     "output_type": "execute_result"
    }
   ],
   "source": [
    "flag=0\n",
    "get_year=list()\n",
    "final_year=list()\n",
    "for i in cleaned_df['Year']:\n",
    "    try:\n",
    "        int(i)\n",
    "        flag+=1\n",
    "    except ValueError:\n",
    "        get_year.append(i)\n",
    "        get_year.append(flag)\n",
    "        y=get_year.copy()\n",
    "        final_year.append(y)\n",
    "        get_year.clear()\n",
    "        flag+=1\n",
    "\n",
    "final_year"
   ]
  },
  {
   "cell_type": "markdown",
   "metadata": {},
   "source": [
    "Genre"
   ]
  },
  {
   "cell_type": "code",
   "execution_count": 127,
   "metadata": {},
   "outputs": [
    {
     "data": {
      "text/plain": [
       "[]"
      ]
     },
     "execution_count": 127,
     "metadata": {},
     "output_type": "execute_result"
    }
   ],
   "source": [
    "flag=0\n",
    "get_gen=list()\n",
    "final_gen=list()\n",
    "for i in cleaned_df['Genre']:\n",
    "    try:\n",
    "        float(i)\n",
    "        get_gen.append(i)\n",
    "        get_gen.append(flag)\n",
    "        p=get_gen.copy()\n",
    "        final_gen.append(p)\n",
    "        get_gen.clear()\n",
    "        flag+=1\n",
    "    except ValueError:\n",
    "        flag+=1\n",
    "\n",
    "final_gen"
   ]
  },
  {
   "cell_type": "markdown",
   "metadata": {},
   "source": [
    "Publisher"
   ]
  },
  {
   "cell_type": "code",
   "execution_count": 128,
   "metadata": {},
   "outputs": [
    {
     "data": {
      "text/plain": [
       "[]"
      ]
     },
     "execution_count": 128,
     "metadata": {},
     "output_type": "execute_result"
    }
   ],
   "source": [
    "flag=0\n",
    "get_pub=list()\n",
    "final_pub=list()\n",
    "for i in cleaned_df['Publisher']:\n",
    "    try:\n",
    "        float(i)\n",
    "        get_pub.append(i)\n",
    "        get_pub.append(flag)\n",
    "        pu=get_pub.copy()\n",
    "        final_pub.append(pu)\n",
    "        get_pub.clear()\n",
    "        flag+=1\n",
    "    except ValueError:\n",
    "        flag+=1\n",
    "\n",
    "final_pub"
   ]
  },
  {
   "cell_type": "markdown",
   "metadata": {},
   "source": [
    "NA Sales"
   ]
  },
  {
   "cell_type": "code",
   "execution_count": 129,
   "metadata": {},
   "outputs": [
    {
     "data": {
      "text/plain": [
       "[]"
      ]
     },
     "execution_count": 129,
     "metadata": {},
     "output_type": "execute_result"
    }
   ],
   "source": [
    "flag=0\n",
    "get_na=list()\n",
    "final_na=list()\n",
    "for i in cleaned_df['NA_Sales']:\n",
    "    try:\n",
    "        float(i)\n",
    "        flag+=1\n",
    "    except ValueError:\n",
    "        get_na.append(i)\n",
    "        get_na.append(flag)\n",
    "        na=get_rank.copy()\n",
    "        final_na.append(na)\n",
    "        get_rank.clear()\n",
    "        flag+=1\n",
    "\n",
    "final_na"
   ]
  },
  {
   "cell_type": "markdown",
   "metadata": {},
   "source": [
    "EU Sales"
   ]
  },
  {
   "cell_type": "code",
   "execution_count": 130,
   "metadata": {},
   "outputs": [
    {
     "data": {
      "text/plain": [
       "[]"
      ]
     },
     "execution_count": 130,
     "metadata": {},
     "output_type": "execute_result"
    }
   ],
   "source": [
    "flag=0\n",
    "get_eu=list()\n",
    "final_eu=list()\n",
    "for i in cleaned_df['EU_Sales']:\n",
    "    try:\n",
    "        float(i)\n",
    "        flag+=1\n",
    "    except ValueError:\n",
    "        get_eu.append(i)\n",
    "        get_eu.append(flag)\n",
    "        eu=get_eu.copy()\n",
    "        final_eu.append(eu)\n",
    "        get_eu.clear()\n",
    "        flag+=1\n",
    "\n",
    "final_eu"
   ]
  },
  {
   "cell_type": "markdown",
   "metadata": {},
   "source": [
    "JP Sales"
   ]
  },
  {
   "cell_type": "code",
   "execution_count": 131,
   "metadata": {},
   "outputs": [
    {
     "data": {
      "text/plain": [
       "[]"
      ]
     },
     "execution_count": 131,
     "metadata": {},
     "output_type": "execute_result"
    }
   ],
   "source": [
    "flag=0\n",
    "get_jp=list()\n",
    "final_jp=list()\n",
    "for i in cleaned_df['JP_Sales']:\n",
    "    try:\n",
    "        float(i)\n",
    "        flag+=1\n",
    "    except ValueError:\n",
    "        get_jp.append(i)\n",
    "        get_jp.append(flag)\n",
    "        eu=get_jp.copy()\n",
    "        final_jp.append(eu)\n",
    "        get_jp.clear()\n",
    "        flag+=1\n",
    "\n",
    "final_jp"
   ]
  },
  {
   "cell_type": "markdown",
   "metadata": {},
   "source": [
    "Others Sales"
   ]
  },
  {
   "cell_type": "code",
   "execution_count": 132,
   "metadata": {},
   "outputs": [
    {
     "data": {
      "text/plain": [
       "[]"
      ]
     },
     "execution_count": 132,
     "metadata": {},
     "output_type": "execute_result"
    }
   ],
   "source": [
    "flag=0\n",
    "get_ot=list()\n",
    "final_ot=list()\n",
    "for i in cleaned_df['Other Sales']:\n",
    "    try:\n",
    "        float(i)\n",
    "        flag+=1\n",
    "    except ValueError:\n",
    "        get_ot.append(i)\n",
    "        get_ot.append(flag)\n",
    "        eu=get_ot.copy()\n",
    "        final_ot.append(eu)\n",
    "        get_ot.clear()\n",
    "        flag+=1\n",
    "\n",
    "final_ot"
   ]
  },
  {
   "cell_type": "markdown",
   "metadata": {},
   "source": [
    "Launch DataFrame in excel file"
   ]
  },
  {
   "cell_type": "code",
   "execution_count": 133,
   "metadata": {},
   "outputs": [],
   "source": [
    "cleaned_df.to_excel('Data/Cleaned Video Game Sales.xlsx',index=False)"
   ]
  },
  {
   "cell_type": "markdown",
   "metadata": {},
   "source": [
    "The Program is completed ! \n",
    "Thank You !"
   ]
  }
 ],
 "metadata": {
  "interpreter": {
   "hash": "3a981eb91f0dfb0167eae25802657a138cc38d9ddd7155c61c1194f70faebf56"
  },
  "kernelspec": {
   "display_name": "Python 3.9.5 64-bit",
   "language": "python",
   "name": "python3"
  },
  "language_info": {
   "codemirror_mode": {
    "name": "ipython",
    "version": 3
   },
   "file_extension": ".py",
   "mimetype": "text/x-python",
   "name": "python",
   "nbconvert_exporter": "python",
   "pygments_lexer": "ipython3",
   "version": "3.9.5"
  },
  "orig_nbformat": 4
 },
 "nbformat": 4,
 "nbformat_minor": 2
}
